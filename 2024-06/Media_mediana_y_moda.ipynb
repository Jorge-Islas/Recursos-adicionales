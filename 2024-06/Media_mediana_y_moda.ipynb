{
  "nbformat": 4,
  "nbformat_minor": 0,
  "metadata": {
    "colab": {
      "provenance": [],
      "toc_visible": true
    },
    "kernelspec": {
      "name": "python3",
      "display_name": "Python 3"
    },
    "language_info": {
      "name": "python"
    }
  },
  "cells": [
    {
      "cell_type": "markdown",
      "source": [
        "# Calcular Media, Mediana y Moda en python con numpy, scipy y pandas\n",
        "\n",
        "En este cuaderno o notebook podrás ver ejemplos de cómo calcular las medidas de tendencia central **media, mediana y moda** con numpy / scipy y pandas.\n",
        "\n",
        "Si quieres ver una explicación en formato video puedes ver [este video](https://youtu.be/9HnzQZvuhfI) (disponible a partir del **2024-06-24**)\n",
        "\n",
        "*Nota: Si no sabes qué es google colab, ve [este video](https://youtu.be/ihzCr92RbRo).*"
      ],
      "metadata": {
        "id": "Ev4BPg-f3DxM"
      }
    },
    {
      "cell_type": "markdown",
      "source": [
        "## Importar librerías"
      ],
      "metadata": {
        "id": "XHiRqu_33XRl"
      }
    },
    {
      "cell_type": "code",
      "execution_count": null,
      "metadata": {
        "id": "yN13q6QWa4g6"
      },
      "outputs": [],
      "source": [
        "import numpy as np\n",
        "from scipy import stats\n",
        "import pandas as pd"
      ]
    },
    {
      "cell_type": "markdown",
      "source": [
        "## Media, Mediana y Moda: **Numpy y Scipy**"
      ],
      "metadata": {
        "id": "AOdb4qs0cyVT"
      }
    },
    {
      "cell_type": "code",
      "source": [
        "# Media\n",
        "valores = [99,86,87,88,111,86,103,87,94,78,77,85,86]\n",
        "\n",
        "x = np.mean(valores)\n",
        "\n",
        "print(x)"
      ],
      "metadata": {
        "id": "82zp8ii1bFu8",
        "colab": {
          "base_uri": "https://localhost:8080/"
        },
        "outputId": "e91683ab-bea1-4eab-af79-b46f5efcbe57"
      },
      "execution_count": null,
      "outputs": [
        {
          "output_type": "stream",
          "name": "stdout",
          "text": [
            "89.76923076923077\n"
          ]
        }
      ]
    },
    {
      "cell_type": "code",
      "source": [
        "# Mediana\n",
        "valores = [99,86,87,88,111,86,103,87,94,78,77,85,86]\n",
        "\n",
        "x = np.median(valores)\n",
        "\n",
        "print(x)"
      ],
      "metadata": {
        "id": "aEWopD7tbITB",
        "colab": {
          "base_uri": "https://localhost:8080/"
        },
        "outputId": "241a5ef7-8ffb-4fc1-868a-dff79652ebfc"
      },
      "execution_count": null,
      "outputs": [
        {
          "output_type": "stream",
          "name": "stdout",
          "text": [
            "87.0\n"
          ]
        }
      ]
    },
    {
      "cell_type": "code",
      "source": [
        "# Moda\n",
        "valores = [99,86,87,88,111,86,103,87,94,78,77,85,86]\n",
        "\n",
        "x = stats.mode(valores)\n",
        "\n",
        "print(x)\n",
        "print(x.mode)\n",
        "print(x.count)"
      ],
      "metadata": {
        "id": "vwuG9mP8bOaT",
        "colab": {
          "base_uri": "https://localhost:8080/"
        },
        "outputId": "b51f4f75-83ec-463b-a08a-e8ce5db8f43c"
      },
      "execution_count": null,
      "outputs": [
        {
          "output_type": "stream",
          "name": "stdout",
          "text": [
            "ModeResult(mode=86, count=3)\n",
            "86\n",
            "3\n"
          ]
        }
      ]
    },
    {
      "cell_type": "markdown",
      "source": [
        "## Media, Mediana y Moda: **Pandas**"
      ],
      "metadata": {
        "id": "JDwZHOswc0dQ"
      }
    },
    {
      "cell_type": "code",
      "source": [
        "# Media\n",
        "valores = [99,86,87,88,111,86,103,87,94,78,77,85,86]\n",
        "\n",
        "x = pd.Series(valores).mean()\n",
        "\n",
        "print(x)"
      ],
      "metadata": {
        "id": "dCAHoNT3c9FH",
        "colab": {
          "base_uri": "https://localhost:8080/"
        },
        "outputId": "b40ebdf0-2252-4b05-f21c-e17ec2c224bb"
      },
      "execution_count": null,
      "outputs": [
        {
          "output_type": "stream",
          "name": "stdout",
          "text": [
            "89.76923076923077\n"
          ]
        }
      ]
    },
    {
      "cell_type": "code",
      "source": [
        "# Mediana\n",
        "valores = [99,86,87,88,111,86,103,87,94,78,77,85,86]\n",
        "\n",
        "x = pd.Series(valores).median()\n",
        "\n",
        "print(x)"
      ],
      "metadata": {
        "id": "63YNHvTYc9FI",
        "colab": {
          "base_uri": "https://localhost:8080/"
        },
        "outputId": "82446bfa-8883-4dc5-e205-35bb30de1592"
      },
      "execution_count": null,
      "outputs": [
        {
          "output_type": "stream",
          "name": "stdout",
          "text": [
            "87.0\n"
          ]
        }
      ]
    },
    {
      "cell_type": "code",
      "source": [
        "# Moda\n",
        "valores = [99,86,87,88,111,86,103,87,94,78,77,85,86]\n",
        "\n",
        "x = pd.Series(valores).mode()\n",
        "\n",
        "print(x)\n",
        "print(x[0])"
      ],
      "metadata": {
        "id": "GoxKhF2Dc9FI",
        "colab": {
          "base_uri": "https://localhost:8080/"
        },
        "outputId": "e4e8a9a6-34f8-44d5-a18f-28bd29c2eb1c"
      },
      "execution_count": null,
      "outputs": [
        {
          "output_type": "stream",
          "name": "stdout",
          "text": [
            "0    86\n",
            "dtype: int64\n",
            "86\n"
          ]
        }
      ]
    },
    {
      "cell_type": "code",
      "source": [],
      "metadata": {
        "id": "udBZXuF6dGMx"
      },
      "execution_count": null,
      "outputs": []
    }
  ]
}
