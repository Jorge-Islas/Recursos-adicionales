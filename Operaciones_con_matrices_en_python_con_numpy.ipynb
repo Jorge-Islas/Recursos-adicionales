{
  "nbformat": 4,
  "nbformat_minor": 0,
  "metadata": {
    "colab": {
      "provenance": [],
      "toc_visible": true
    },
    "kernelspec": {
      "name": "python3",
      "display_name": "Python 3"
    },
    "language_info": {
      "name": "python"
    }
  },
  "cells": [
    {
      "cell_type": "markdown",
      "source": [
        "# Operaciones con matrices en python con numpy\n",
        "\n",
        "En este cuaderno o notebook podrás ver ejemplos de las siguientes operaciones con matrices en numpy:\n",
        "\n",
        "- Suma y Resta\n",
        "- Multiplicación de matrices\n",
        "- Multiplicación de matrices entrada por entrada\n",
        "- Transpuesta de una matriz\n",
        "- Producto punto entre vectores\n",
        "- Multiplicar vector por matriz fila por fila\n",
        "- Multiplicar vector por matriz columna por columna\n",
        "\n",
        "Si quieres ver una explicación en formato video puedes ver [este video](https://youtu.be/7JSHBwi776A) (disponible a partir del **2024-06-08**)\n",
        "\n",
        "*Nota: Si no sabes qué es google colab, ve [este video](https://youtu.be/ihzCr92RbRo).*"
      ],
      "metadata": {
        "id": "r5iM7K9z10X-"
      }
    },
    {
      "cell_type": "markdown",
      "source": [
        "## Importar librerías"
      ],
      "metadata": {
        "id": "Z87c7YN116wC"
      }
    },
    {
      "cell_type": "code",
      "execution_count": null,
      "metadata": {
        "id": "tiwKZ9fAVeP_"
      },
      "outputs": [],
      "source": [
        "import numpy as np"
      ]
    },
    {
      "cell_type": "markdown",
      "source": [
        "## Definir matrices de prueba"
      ],
      "metadata": {
        "id": "5aB28ONjX5S8"
      }
    },
    {
      "cell_type": "code",
      "source": [
        "A = np.array([[1, 3],\n",
        "              [2, 4]])\n",
        "\n",
        "B = np.array([[1, 0],\n",
        "              [0,-1]])"
      ],
      "metadata": {
        "id": "h4WX6Kw-Wr2N"
      },
      "execution_count": null,
      "outputs": []
    },
    {
      "cell_type": "markdown",
      "source": [
        "## Suma y Resta"
      ],
      "metadata": {
        "id": "Y2ixZEc-Xqe0"
      }
    },
    {
      "cell_type": "code",
      "source": [
        "print(A, B, \"\", sep=\"\\n\")\n",
        "print(A + B)"
      ],
      "metadata": {
        "colab": {
          "base_uri": "https://localhost:8080/"
        },
        "id": "IbB3VHnFXAa4",
        "outputId": "d2baafab-43c1-4120-ec96-d8318e839b4c"
      },
      "execution_count": null,
      "outputs": [
        {
          "output_type": "stream",
          "name": "stdout",
          "text": [
            "[[1 3]\n",
            " [2 4]]\n",
            "[[ 1  0]\n",
            " [ 0 -1]]\n",
            "\n",
            "[[2 3]\n",
            " [2 3]]\n"
          ]
        }
      ]
    },
    {
      "cell_type": "code",
      "source": [
        "print(A, B, \"\", sep=\"\\n\")\n",
        "print(A - B)"
      ],
      "metadata": {
        "colab": {
          "base_uri": "https://localhost:8080/"
        },
        "id": "FPF2DVaxXLJP",
        "outputId": "e3dc49ec-1190-49a1-aa7d-6f7db2fbbc71"
      },
      "execution_count": null,
      "outputs": [
        {
          "output_type": "stream",
          "name": "stdout",
          "text": [
            "[[1 3]\n",
            " [2 4]]\n",
            "[[ 1  0]\n",
            " [ 0 -1]]\n",
            "\n",
            "[[0 3]\n",
            " [2 5]]\n"
          ]
        }
      ]
    },
    {
      "cell_type": "markdown",
      "source": [
        "## Multiplicación de matrices y Multiplicación entrada por entrada"
      ],
      "metadata": {
        "id": "X9xnG_cmXsQG"
      }
    },
    {
      "cell_type": "code",
      "source": [
        "print(A, B, \"\", sep=\"\\n\")\n",
        "print(A @ B)"
      ],
      "metadata": {
        "colab": {
          "base_uri": "https://localhost:8080/"
        },
        "id": "17TQ_V0QXSEZ",
        "outputId": "bffe91d2-bb18-4724-e2bc-97000a3f99b2"
      },
      "execution_count": null,
      "outputs": [
        {
          "output_type": "stream",
          "name": "stdout",
          "text": [
            "[[1 3]\n",
            " [2 4]]\n",
            "[[ 1  0]\n",
            " [ 0 -1]]\n",
            "\n",
            "[[ 1 -3]\n",
            " [ 2 -4]]\n"
          ]
        }
      ]
    },
    {
      "cell_type": "code",
      "source": [
        "print(A, B, \"\", sep=\"\\n\")\n",
        "print(A * B)"
      ],
      "metadata": {
        "colab": {
          "base_uri": "https://localhost:8080/"
        },
        "id": "arJaq_H2XM8I",
        "outputId": "7cfe2de5-907e-4805-f56a-c8f6dced7010"
      },
      "execution_count": null,
      "outputs": [
        {
          "output_type": "stream",
          "name": "stdout",
          "text": [
            "[[1 3]\n",
            " [2 4]]\n",
            "[[ 1  0]\n",
            " [ 0 -1]]\n",
            "\n",
            "[[ 1  0]\n",
            " [ 0 -4]]\n"
          ]
        }
      ]
    },
    {
      "cell_type": "markdown",
      "source": [
        "## Transpuesta de una matriz"
      ],
      "metadata": {
        "id": "asogk9YcY0r1"
      }
    },
    {
      "cell_type": "code",
      "source": [
        "print(A, \"\", sep=\"\\n\")\n",
        "print(A.T)"
      ],
      "metadata": {
        "colab": {
          "base_uri": "https://localhost:8080/"
        },
        "id": "7NIFhNEwY0CY",
        "outputId": "11b9e34b-0b2e-4487-bfd0-eafaf11c1107"
      },
      "execution_count": null,
      "outputs": [
        {
          "output_type": "stream",
          "name": "stdout",
          "text": [
            "[[1 3]\n",
            " [2 4]]\n",
            "\n",
            "[[1 2]\n",
            " [3 4]]\n"
          ]
        }
      ]
    },
    {
      "cell_type": "markdown",
      "source": [
        "## Definir vectores de prueba"
      ],
      "metadata": {
        "id": "7BKR-8QuX19_"
      }
    },
    {
      "cell_type": "code",
      "source": [
        "u = np.array([1, 2])\n",
        "v = np.array([1, 0])"
      ],
      "metadata": {
        "id": "n4947AAuXQEg"
      },
      "execution_count": null,
      "outputs": []
    },
    {
      "cell_type": "markdown",
      "source": [
        "## Producto punto"
      ],
      "metadata": {
        "id": "fuF-YGePX9l2"
      }
    },
    {
      "cell_type": "code",
      "source": [
        "print(u, v, \"\", sep=\"\\n\")\n",
        "print(np.dot(u, v))"
      ],
      "metadata": {
        "colab": {
          "base_uri": "https://localhost:8080/"
        },
        "id": "FqnN7x3pXlIr",
        "outputId": "288e23b8-2474-40c3-f59e-59f5d121d1f3"
      },
      "execution_count": null,
      "outputs": [
        {
          "output_type": "stream",
          "name": "stdout",
          "text": [
            "[1 2]\n",
            "[1 0]\n",
            "\n",
            "1\n"
          ]
        }
      ]
    },
    {
      "cell_type": "code",
      "source": [
        "print(u, v, \"\", sep=\"\\n\")\n",
        "print(u @ v)"
      ],
      "metadata": {
        "colab": {
          "base_uri": "https://localhost:8080/"
        },
        "id": "BtpK3jkIXmvw",
        "outputId": "d5617bc9-9908-4d27-a825-806e29f9ba89"
      },
      "execution_count": null,
      "outputs": [
        {
          "output_type": "stream",
          "name": "stdout",
          "text": [
            "[1 2]\n",
            "[1 0]\n",
            "\n",
            "1\n"
          ]
        }
      ]
    },
    {
      "cell_type": "markdown",
      "source": [
        "## Multiplicar vector por matriz fila por fila"
      ],
      "metadata": {
        "id": "ciTYij-6X_iy"
      }
    },
    {
      "cell_type": "code",
      "source": [
        "print(u, A, \"\", sep=\"\\n\")\n",
        "print(u * A)"
      ],
      "metadata": {
        "colab": {
          "base_uri": "https://localhost:8080/"
        },
        "id": "Tl-b6gyiYQH9",
        "outputId": "e1a78724-d8c2-426c-afd5-81783d2bffca"
      },
      "execution_count": null,
      "outputs": [
        {
          "output_type": "stream",
          "name": "stdout",
          "text": [
            "[1 2]\n",
            "[[1 3]\n",
            " [2 4]]\n",
            "\n",
            "[[1 6]\n",
            " [2 8]]\n"
          ]
        }
      ]
    },
    {
      "cell_type": "markdown",
      "source": [
        "## Multiplicar vector por matriz columna por columna"
      ],
      "metadata": {
        "id": "1BFvv7ttYuqA"
      }
    },
    {
      "cell_type": "code",
      "source": [
        "print(u, A, \"\", sep=\"\\n\")\n",
        "print((u * A.T).T)"
      ],
      "metadata": {
        "colab": {
          "base_uri": "https://localhost:8080/"
        },
        "id": "bnUE4yynYddw",
        "outputId": "f8556bc9-12a2-4bcb-e95d-6f2d2b11c441"
      },
      "execution_count": null,
      "outputs": [
        {
          "output_type": "stream",
          "name": "stdout",
          "text": [
            "[1 2]\n",
            "[[1 3]\n",
            " [2 4]]\n",
            "\n",
            "[[1 3]\n",
            " [4 8]]\n"
          ]
        }
      ]
    }
  ]
}